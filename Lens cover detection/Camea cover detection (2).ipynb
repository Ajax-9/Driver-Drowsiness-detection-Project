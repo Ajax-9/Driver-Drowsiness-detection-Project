{
 "cells": [
  {
   "cell_type": "code",
   "execution_count": null,
   "id": "25ba4925",
   "metadata": {},
   "outputs": [],
   "source": [
    "import cv2\n",
    "import winsound\n",
    "\n",
    "# initialize the camera\n",
    "cap = cv2.VideoCapture(0)\n",
    "\n",
    "# create a window to display the thresholded image\n",
    "cv2.namedWindow(\"Thresholded Image\", cv2.WINDOW_NORMAL)\n",
    "\n",
    "# initialize the state of the lens to uncovered\n",
    "lens_state = \"uncovered\"\n",
    "\n",
    "while True:\n",
    "    # capture a frame from the camera\n",
    "    ret, frame = cap.read()\n",
    "    \n",
    "    # convert the frame to grayscale\n",
    "    gray = cv2.cvtColor(frame, cv2.COLOR_BGR2GRAY)\n",
    "    \n",
    "    # apply a threshold to the image\n",
    "    ret, thresh = cv2.threshold(gray, 100, 255, cv2.THRESH_BINARY)\n",
    "    \n",
    "    # count the number of white pixels in the thresholded image\n",
    "    white_pixels = cv2.countNonZero(thresh)\n",
    "    \n",
    "    # if the number of white pixels is below a threshold value and the lens is not already covered, the lens is covered\n",
    "    if white_pixels < 1000 and lens_state == \"uncovered\":\n",
    "        # update the state of the lens to covered\n",
    "        lens_state = \"covered\"\n",
    "        # play a beep sound to indicate that the lens is covered\n",
    "        winsound.Beep(1000, 2000)\n",
    "    # if the number of white pixels is above a threshold value and the lens is not already uncovered, the lens is uncovered\n",
    "    elif white_pixels >= 1000 and lens_state == \"covered\":\n",
    "        # update the state of the lens to uncovered\n",
    "        lens_state = \"uncovered\"\n",
    "    \n",
    "    # display the thresholded image\n",
    "    cv2.imshow(\"Thresholded Image\", thresh)\n",
    "    \n",
    "    # wait for a key press\n",
    "    if cv2.waitKey(1) == ord('q'):\n",
    "        break\n",
    "\n",
    "# release the camera, stop the beep sound, and close all windows\n",
    "cap.release()\n",
    "cv2.destroyAllWindows()\n",
    "winsound.PlaySound(None, winsound.SND_PURGE)\n"
   ]
  },
  {
   "cell_type": "code",
   "execution_count": null,
   "id": "b1c73001",
   "metadata": {},
   "outputs": [
    {
     "name": "stdout",
     "output_type": "stream",
     "text": [
      "No face detected!\n",
      "No face detected!\n",
      "No face detected!\n",
      "No face detected!\n"
     ]
    }
   ],
   "source": []
  },
  {
   "cell_type": "code",
   "execution_count": null,
   "id": "30b9c2dc",
   "metadata": {},
   "outputs": [],
   "source": []
  }
 ],
 "metadata": {
  "kernelspec": {
   "display_name": "Python 3 (ipykernel)",
   "language": "python",
   "name": "python3"
  },
  "language_info": {
   "codemirror_mode": {
    "name": "ipython",
    "version": 3
   },
   "file_extension": ".py",
   "mimetype": "text/x-python",
   "name": "python",
   "nbconvert_exporter": "python",
   "pygments_lexer": "ipython3",
   "version": "3.9.12"
  }
 },
 "nbformat": 4,
 "nbformat_minor": 5
}
